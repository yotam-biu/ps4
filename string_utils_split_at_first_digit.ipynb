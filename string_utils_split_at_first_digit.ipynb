{
  "nbformat": 4,
  "nbformat_minor": 0,
  "metadata": {
    "colab": {
      "provenance": [],
      "authorship_tag": "ABX9TyNXrdVEqbokZJTfUUfGSjEy",
      "include_colab_link": true
    },
    "kernelspec": {
      "name": "python3",
      "display_name": "Python 3"
    },
    "language_info": {
      "name": "python"
    }
  },
  "cells": [
    {
      "cell_type": "markdown",
      "metadata": {
        "id": "view-in-github",
        "colab_type": "text"
      },
      "source": [
        "<a href=\"https://colab.research.google.com/github/yotam-biu/tutorial4/blob/main/string_utils_split_at_first_digit.ipynb\" target=\"_parent\"><img src=\"https://colab.research.google.com/assets/colab-badge.svg\" alt=\"Open In Colab\"/></a>"
      ]
    },
    {
      "cell_type": "markdown",
      "source": [
        "# **Assignment for Implementing `split_at_first_digit` Function**\n",
        "\n",
        "You will write a function called `split_at_digit` that splits a given string (chemical formula) into two parts:\n",
        "1. The prefix (the part of the formula before the first digit).\n",
        "2. The numeric part (the part of the formula after the first digit).\n",
        "\n",
        "The function should return the prefix and the number as an integer. If no digit is found, return the original string and 1 as the number.\n",
        "\n",
        "---\n",
        "\n",
        "### **Steps**:\n",
        "\n",
        "1. **Initialize `digit_location`**: Set a variable `digit_location` to 1. This will help you track the position of the first digit in the formula.\n",
        "\n",
        "2. **Loop Through Characters**: Iterate over each character in the `formula`, starting from the second character (i.e., `formula[1:]`):\n",
        "   - Check if the character is a digit using the `.isdigit()` string method.\n",
        "   - If a digit is found, stop the loop - you can use `break`.\n",
        "   - Increment the `digit_location` with each iteration to keep track of the position of the first digit.\n",
        "\n",
        "3. **Check for Digit**: After the loop, check if `digit_location` is equal to the length of the formula:\n",
        "   - If no digit was found, return the original `formula` and the number `1`.\n",
        "   - If a digit is found, split the formula into two parts: the prefix (everything before the digit) and the numeric part (everything after the digit). Return both parts.\n",
        "\n",
        "---\n",
        "\n",
        "### **Example**:\n",
        "\n",
        "For the formula `\"He98\"`, the function should return:\n",
        "\n",
        "```python\n",
        "(He, 98)\n"
      ],
      "metadata": {
        "id": "AMfVBoRV_7YM"
      }
    },
    {
      "cell_type": "code",
      "source": [
        "def split_at_first_digit(formula):\n",
        "    pass # Replace the pass with your code"
      ],
      "metadata": {
        "id": "jf8hGi8YCoMS"
      },
      "execution_count": 1,
      "outputs": []
    },
    {
      "cell_type": "code",
      "source": [
        "# Test your code with your input\n",
        "formula = \"Ir6\"\n",
        "split_at_first_digit(formula)"
      ],
      "metadata": {
        "colab": {
          "base_uri": "https://localhost:8080/"
        },
        "id": "lBwd8zkqC7p7",
        "outputId": "6935fb5f-0830-4f41-c3ff-ea180bdf3f7a"
      },
      "execution_count": 2,
      "outputs": [
        {
          "output_type": "execute_result",
          "data": {
            "text/plain": [
              "('Ir', 6)"
            ]
          },
          "metadata": {},
          "execution_count": 2
        }
      ]
    },
    {
      "cell_type": "code",
      "execution_count": 3,
      "metadata": {
        "colab": {
          "base_uri": "https://localhost:8080/"
        },
        "id": "UcrMwVuz_5Xo",
        "outputId": "d2860a79-4a2f-42ec-f2e8-f6b0bc4ce1b4"
      },
      "outputs": [
        {
          "output_type": "stream",
          "name": "stdout",
          "text": [
            "All tests passed!\n"
          ]
        }
      ],
      "source": [
        "# Test your code with our test cases\n",
        "\n",
        "def test_split_at_first_digit():\n",
        "    assert split_at_first_digit(\"H2\") == (\"H\", 2)\n",
        "    assert split_at_first_digit(\"He23\") == (\"He\", 23)\n",
        "    assert split_at_first_digit(\"Fe\") == (\"Fe\", 1)\n",
        "    assert split_at_first_digit(\"Fe1\") == (\"Fe\", 1)\n",
        "    assert split_at_first_digit(\"F\") == (\"F\", 1)\n",
        "    assert split_at_first_digit(\"He10000\") == (\"He\", 10000)\n",
        "    print(\"All tests passed!\")\n",
        "\n",
        "test_split_at_first_digit()"
      ]
    },
    {
      "cell_type": "code",
      "source": [],
      "metadata": {
        "id": "vf62hR1ZDgJd"
      },
      "execution_count": null,
      "outputs": []
    }
  ]
}